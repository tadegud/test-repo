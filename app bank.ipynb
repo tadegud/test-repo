{
 "cells": [
  {
   "cell_type": "code",
   "execution_count": 25,
   "metadata": {},
   "outputs": [
    {
     "name": "stdout",
     "output_type": "stream",
     "text": [
      "1.Create Account\n",
      "2.Deposit\n",
      "3.Withdrwal\n",
      "4.Check Balance\n",
      "5.Loan\n",
      "Account_no 46466\n",
      "Your initial loan is  $ 833\n",
      "accrued interest over the last 5.0 year is $ 167.0 .\n",
      "Your current balance is $ 1000.0\n"
     ]
    }
   ],
   "source": [
    "# #5) Write a python program for a simple bank that accepts deposits, processes withdrawals and gives simple interest on \n",
    "        # your program should ask if the user wants to deposit or withdraw money\n",
    "        # the program should perform the operation based on the user's response\n",
    "        # then, the user should be notified of the activity and the final balance once the activity has been performed.\n",
    "                # the program should also calculate the simple interest and the original principal from the current balance, assuming that the user's final balance has been \n",
    "# in the user's account for 5 years now and a 4% rate of interest.\n",
    "        # Finally, the program should let the user know how much balance he/she currently has, how long it's been saved, and how much of the balance is accrued interest.\n",
    "\n",
    "# bank app\n",
    "personal_no=0\n",
    "customer_name= ' '\n",
    "mobile_no=  ' '\n",
    "bal=100000\n",
    "def creatAcounts():\n",
    "    personal_no=int(input('Enter your personal number'))\n",
    "    customer_name=input('Enter name')\n",
    "    mobile_no=int(input('Enter mobile number'))\n",
    "    global bal # to fix local variable  'referenced before assignment'\n",
    "    #bal=int(input('Enter current balance'))\n",
    "    #to showacus_details\n",
    "    print('Account_no:',personal_no)\n",
    "    print('Customer_name:',customer_name)\n",
    "    print('Mobile_no:',mobile_no)\n",
    "def deposit(amount):\n",
    "    global bal\n",
    "    bal=bal+amount\n",
    "    print('Dear customer your account has been credited with' '$',amount ,'.' )\n",
    "    check_balance ()\n",
    "def withdrwal(amount):\n",
    "    global bal\n",
    "    bal=bal-amount\n",
    "    print('Dear customer your account has been debited with' '$',amount ,'.')\n",
    "    check_balance ()\n",
    "def check_balance ():\n",
    "    print('Your current balance is','$',bal,'.' )\n",
    "#def simple_interest():\n",
    "#simpleinterest =(principal amount* rate of interest*number of years)/100\n",
    "  # p=float(input('Enter Principal amount:'))\n",
    "  # r=float(input('Enter interst rate:'))\n",
    "   #t=float(input('Enter nmber of year:'))\n",
    "   #simple_interest= (p*i*t)/100\n",
    "   #print('accrued interest over the last', t  , 'year is', '$',simple_interest ,'.', \n",
    "   #'Your current balance is','$',p + simple_interest)  \n",
    "def present_value():\n",
    "#present_value=Amount/(1+(r*t)) \n",
    "   fv=float(input('Enter Principal an amount:'))\n",
    "   r=float(input('Enter interst rate:'))\n",
    "   t=float(input('Enter number of year:'))\n",
    "   present_value=round(fv/(1+(r*t)))\n",
    "   print('Your initial loan is  $', present_value)\n",
    "   print('accrued interest over the last', t  , 'year is', '$',fv-present_value,'.') \n",
    "   print('Your current balance is','$',fv)  \n",
    "   #print(simple_interest)  \n",
    "# mainu#\n",
    "print('1.Create Account\\n2.Deposit\\n3.Withdrwal\\n4.Check Balance\\n5.Loan')\n",
    "select=int(input('Select Service Type'))\n",
    "if(select==1):\n",
    "        creatAcounts()\n",
    "elif(select==2):\n",
    "        cust_1=int(input('Enter Account_no'))\n",
    "        amount=int(input('Enter amount to deposit'))\n",
    "        print('Account_no' , cust_1)\n",
    "        deposit(amount)\n",
    "elif(select==3):\n",
    "    cust_1=int(input('Enter Account_no'))\n",
    "    amount=int(input('Enter amount to withdrwal '))\n",
    "    print('Account_no' , cust_1)\n",
    "    withdrwal(amount)\n",
    "elif(select==4):\n",
    "    cust_1=int(input('Enter Account_no'))\n",
    "    print('Account_no' , cust_1)\n",
    "    check_balance ()\n",
    "elif(select==5):\n",
    "    cust_1=int(input('Account_no'))\n",
    "    print('Account_no' , cust_1)\n",
    "    present_value()\n",
    "else: \n",
    "     print('please  select any  option from above')"
   ]
  }
 ],
 "metadata": {
  "kernelspec": {
   "display_name": "Python 3",
   "language": "python",
   "name": "python3"
  },
  "language_info": {
   "codemirror_mode": {
    "name": "ipython",
    "version": 3
   },
   "file_extension": ".py",
   "mimetype": "text/x-python",
   "name": "python",
   "nbconvert_exporter": "python",
   "pygments_lexer": "ipython3",
   "version": "3.10.8"
  },
  "orig_nbformat": 4,
  "vscode": {
   "interpreter": {
    "hash": "c6f1921dde9ca1fa5455a2bd322749193e8c93a1aea6ae294694debf659751c4"
   }
  }
 },
 "nbformat": 4,
 "nbformat_minor": 2
}
